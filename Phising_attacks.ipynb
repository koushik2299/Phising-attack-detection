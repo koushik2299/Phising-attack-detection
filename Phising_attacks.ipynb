{
  "nbformat": 4,
  "nbformat_minor": 0,
  "metadata": {
    "colab": {
      "provenance": [],
      "toc_visible": true,
      "authorship_tag": "ABX9TyP+Aelp2B8SE0LI18XVVRx2",
      "include_colab_link": true
    },
    "kernelspec": {
      "name": "python3",
      "display_name": "Python 3"
    },
    "language_info": {
      "name": "python"
    }
  },
  "cells": [
    {
      "cell_type": "markdown",
      "metadata": {
        "id": "view-in-github",
        "colab_type": "text"
      },
      "source": [
        "<a href=\"https://colab.research.google.com/github/koushik2299/Phising-attack-detection/blob/main/Phising_attacks.ipynb\" target=\"_parent\"><img src=\"https://colab.research.google.com/assets/colab-badge.svg\" alt=\"Open In Colab\"/></a>"
      ]
    },
    {
      "cell_type": "markdown",
      "source": [
        "# **Setup and Libraries**\n"
      ],
      "metadata": {
        "id": "P7m22Mg_BIHQ"
      }
    },
    {
      "cell_type": "code",
      "execution_count": 21,
      "metadata": {
        "id": "MNZR8NaIBEtW"
      },
      "outputs": [],
      "source": [
        "import pandas as pd\n",
        "import numpy as np\n",
        "import seaborn as sns\n",
        "import matplotlib.pyplot as plt\n"
      ]
    },
    {
      "cell_type": "code",
      "source": [
        "df = pd.read_csv(\"/content/Phishing_Legitimate_full.csv\")\n",
        "odf = df"
      ],
      "metadata": {
        "id": "kf_vTwOwBSUw"
      },
      "execution_count": 2,
      "outputs": []
    },
    {
      "cell_type": "code",
      "source": [
        "df.head()"
      ],
      "metadata": {
        "colab": {
          "base_uri": "https://localhost:8080/",
          "height": 299
        },
        "id": "_z6FRuUZBbij",
        "outputId": "b10b23f8-cc01-44e5-ffa7-0788ad22c270"
      },
      "execution_count": 3,
      "outputs": [
        {
          "output_type": "execute_result",
          "data": {
            "text/plain": [
              "   id  NumDots  SubdomainLevel  PathLevel  UrlLength  NumDash  \\\n",
              "0   1        3               1          5         72        0   \n",
              "1   2        3               1          3        144        0   \n",
              "2   3        3               1          2         58        0   \n",
              "3   4        3               1          6         79        1   \n",
              "4   5        3               0          4         46        0   \n",
              "\n",
              "   NumDashInHostname  AtSymbol  TildeSymbol  NumUnderscore  ...  \\\n",
              "0                  0         0            0              0  ...   \n",
              "1                  0         0            0              2  ...   \n",
              "2                  0         0            0              0  ...   \n",
              "3                  0         0            0              0  ...   \n",
              "4                  0         0            0              0  ...   \n",
              "\n",
              "   IframeOrFrame  MissingTitle  ImagesOnlyInForm  SubdomainLevelRT  \\\n",
              "0              0             0                 1                 1   \n",
              "1              0             0                 0                 1   \n",
              "2              0             0                 0                 1   \n",
              "3              0             0                 0                 1   \n",
              "4              1             0                 0                 1   \n",
              "\n",
              "   UrlLengthRT  PctExtResourceUrlsRT  AbnormalExtFormActionR  \\\n",
              "0            0                     1                       1   \n",
              "1           -1                     1                       1   \n",
              "2            0                    -1                       1   \n",
              "3           -1                     1                       1   \n",
              "4            1                    -1                       0   \n",
              "\n",
              "   ExtMetaScriptLinkRT  PctExtNullSelfRedirectHyperlinksRT  CLASS_LABEL  \n",
              "0                   -1                                   1            1  \n",
              "1                    1                                   1            1  \n",
              "2                   -1                                   0            1  \n",
              "3                    1                                  -1            1  \n",
              "4                   -1                                  -1            1  \n",
              "\n",
              "[5 rows x 50 columns]"
            ],
            "text/html": [
              "\n",
              "\n",
              "  <div id=\"df-bd4ba7cb-48b1-4238-a3b4-864853658276\">\n",
              "    <div class=\"colab-df-container\">\n",
              "      <div>\n",
              "<style scoped>\n",
              "    .dataframe tbody tr th:only-of-type {\n",
              "        vertical-align: middle;\n",
              "    }\n",
              "\n",
              "    .dataframe tbody tr th {\n",
              "        vertical-align: top;\n",
              "    }\n",
              "\n",
              "    .dataframe thead th {\n",
              "        text-align: right;\n",
              "    }\n",
              "</style>\n",
              "<table border=\"1\" class=\"dataframe\">\n",
              "  <thead>\n",
              "    <tr style=\"text-align: right;\">\n",
              "      <th></th>\n",
              "      <th>id</th>\n",
              "      <th>NumDots</th>\n",
              "      <th>SubdomainLevel</th>\n",
              "      <th>PathLevel</th>\n",
              "      <th>UrlLength</th>\n",
              "      <th>NumDash</th>\n",
              "      <th>NumDashInHostname</th>\n",
              "      <th>AtSymbol</th>\n",
              "      <th>TildeSymbol</th>\n",
              "      <th>NumUnderscore</th>\n",
              "      <th>...</th>\n",
              "      <th>IframeOrFrame</th>\n",
              "      <th>MissingTitle</th>\n",
              "      <th>ImagesOnlyInForm</th>\n",
              "      <th>SubdomainLevelRT</th>\n",
              "      <th>UrlLengthRT</th>\n",
              "      <th>PctExtResourceUrlsRT</th>\n",
              "      <th>AbnormalExtFormActionR</th>\n",
              "      <th>ExtMetaScriptLinkRT</th>\n",
              "      <th>PctExtNullSelfRedirectHyperlinksRT</th>\n",
              "      <th>CLASS_LABEL</th>\n",
              "    </tr>\n",
              "  </thead>\n",
              "  <tbody>\n",
              "    <tr>\n",
              "      <th>0</th>\n",
              "      <td>1</td>\n",
              "      <td>3</td>\n",
              "      <td>1</td>\n",
              "      <td>5</td>\n",
              "      <td>72</td>\n",
              "      <td>0</td>\n",
              "      <td>0</td>\n",
              "      <td>0</td>\n",
              "      <td>0</td>\n",
              "      <td>0</td>\n",
              "      <td>...</td>\n",
              "      <td>0</td>\n",
              "      <td>0</td>\n",
              "      <td>1</td>\n",
              "      <td>1</td>\n",
              "      <td>0</td>\n",
              "      <td>1</td>\n",
              "      <td>1</td>\n",
              "      <td>-1</td>\n",
              "      <td>1</td>\n",
              "      <td>1</td>\n",
              "    </tr>\n",
              "    <tr>\n",
              "      <th>1</th>\n",
              "      <td>2</td>\n",
              "      <td>3</td>\n",
              "      <td>1</td>\n",
              "      <td>3</td>\n",
              "      <td>144</td>\n",
              "      <td>0</td>\n",
              "      <td>0</td>\n",
              "      <td>0</td>\n",
              "      <td>0</td>\n",
              "      <td>2</td>\n",
              "      <td>...</td>\n",
              "      <td>0</td>\n",
              "      <td>0</td>\n",
              "      <td>0</td>\n",
              "      <td>1</td>\n",
              "      <td>-1</td>\n",
              "      <td>1</td>\n",
              "      <td>1</td>\n",
              "      <td>1</td>\n",
              "      <td>1</td>\n",
              "      <td>1</td>\n",
              "    </tr>\n",
              "    <tr>\n",
              "      <th>2</th>\n",
              "      <td>3</td>\n",
              "      <td>3</td>\n",
              "      <td>1</td>\n",
              "      <td>2</td>\n",
              "      <td>58</td>\n",
              "      <td>0</td>\n",
              "      <td>0</td>\n",
              "      <td>0</td>\n",
              "      <td>0</td>\n",
              "      <td>0</td>\n",
              "      <td>...</td>\n",
              "      <td>0</td>\n",
              "      <td>0</td>\n",
              "      <td>0</td>\n",
              "      <td>1</td>\n",
              "      <td>0</td>\n",
              "      <td>-1</td>\n",
              "      <td>1</td>\n",
              "      <td>-1</td>\n",
              "      <td>0</td>\n",
              "      <td>1</td>\n",
              "    </tr>\n",
              "    <tr>\n",
              "      <th>3</th>\n",
              "      <td>4</td>\n",
              "      <td>3</td>\n",
              "      <td>1</td>\n",
              "      <td>6</td>\n",
              "      <td>79</td>\n",
              "      <td>1</td>\n",
              "      <td>0</td>\n",
              "      <td>0</td>\n",
              "      <td>0</td>\n",
              "      <td>0</td>\n",
              "      <td>...</td>\n",
              "      <td>0</td>\n",
              "      <td>0</td>\n",
              "      <td>0</td>\n",
              "      <td>1</td>\n",
              "      <td>-1</td>\n",
              "      <td>1</td>\n",
              "      <td>1</td>\n",
              "      <td>1</td>\n",
              "      <td>-1</td>\n",
              "      <td>1</td>\n",
              "    </tr>\n",
              "    <tr>\n",
              "      <th>4</th>\n",
              "      <td>5</td>\n",
              "      <td>3</td>\n",
              "      <td>0</td>\n",
              "      <td>4</td>\n",
              "      <td>46</td>\n",
              "      <td>0</td>\n",
              "      <td>0</td>\n",
              "      <td>0</td>\n",
              "      <td>0</td>\n",
              "      <td>0</td>\n",
              "      <td>...</td>\n",
              "      <td>1</td>\n",
              "      <td>0</td>\n",
              "      <td>0</td>\n",
              "      <td>1</td>\n",
              "      <td>1</td>\n",
              "      <td>-1</td>\n",
              "      <td>0</td>\n",
              "      <td>-1</td>\n",
              "      <td>-1</td>\n",
              "      <td>1</td>\n",
              "    </tr>\n",
              "  </tbody>\n",
              "</table>\n",
              "<p>5 rows × 50 columns</p>\n",
              "</div>\n",
              "      <button class=\"colab-df-convert\" onclick=\"convertToInteractive('df-bd4ba7cb-48b1-4238-a3b4-864853658276')\"\n",
              "              title=\"Convert this dataframe to an interactive table.\"\n",
              "              style=\"display:none;\">\n",
              "\n",
              "  <svg xmlns=\"http://www.w3.org/2000/svg\" height=\"24px\"viewBox=\"0 0 24 24\"\n",
              "       width=\"24px\">\n",
              "    <path d=\"M0 0h24v24H0V0z\" fill=\"none\"/>\n",
              "    <path d=\"M18.56 5.44l.94 2.06.94-2.06 2.06-.94-2.06-.94-.94-2.06-.94 2.06-2.06.94zm-11 1L8.5 8.5l.94-2.06 2.06-.94-2.06-.94L8.5 2.5l-.94 2.06-2.06.94zm10 10l.94 2.06.94-2.06 2.06-.94-2.06-.94-.94-2.06-.94 2.06-2.06.94z\"/><path d=\"M17.41 7.96l-1.37-1.37c-.4-.4-.92-.59-1.43-.59-.52 0-1.04.2-1.43.59L10.3 9.45l-7.72 7.72c-.78.78-.78 2.05 0 2.83L4 21.41c.39.39.9.59 1.41.59.51 0 1.02-.2 1.41-.59l7.78-7.78 2.81-2.81c.8-.78.8-2.07 0-2.86zM5.41 20L4 18.59l7.72-7.72 1.47 1.35L5.41 20z\"/>\n",
              "  </svg>\n",
              "      </button>\n",
              "\n",
              "\n",
              "\n",
              "    <div id=\"df-25181eeb-22e0-48a1-9f54-c1aa615e82f9\">\n",
              "      <button class=\"colab-df-quickchart\" onclick=\"quickchart('df-25181eeb-22e0-48a1-9f54-c1aa615e82f9')\"\n",
              "              title=\"Suggest charts.\"\n",
              "              style=\"display:none;\">\n",
              "\n",
              "<svg xmlns=\"http://www.w3.org/2000/svg\" height=\"24px\"viewBox=\"0 0 24 24\"\n",
              "     width=\"24px\">\n",
              "    <g>\n",
              "        <path d=\"M19 3H5c-1.1 0-2 .9-2 2v14c0 1.1.9 2 2 2h14c1.1 0 2-.9 2-2V5c0-1.1-.9-2-2-2zM9 17H7v-7h2v7zm4 0h-2V7h2v10zm4 0h-2v-4h2v4z\"/>\n",
              "    </g>\n",
              "</svg>\n",
              "      </button>\n",
              "    </div>\n",
              "\n",
              "<style>\n",
              "  .colab-df-quickchart {\n",
              "    background-color: #E8F0FE;\n",
              "    border: none;\n",
              "    border-radius: 50%;\n",
              "    cursor: pointer;\n",
              "    display: none;\n",
              "    fill: #1967D2;\n",
              "    height: 32px;\n",
              "    padding: 0 0 0 0;\n",
              "    width: 32px;\n",
              "  }\n",
              "\n",
              "  .colab-df-quickchart:hover {\n",
              "    background-color: #E2EBFA;\n",
              "    box-shadow: 0px 1px 2px rgba(60, 64, 67, 0.3), 0px 1px 3px 1px rgba(60, 64, 67, 0.15);\n",
              "    fill: #174EA6;\n",
              "  }\n",
              "\n",
              "  [theme=dark] .colab-df-quickchart {\n",
              "    background-color: #3B4455;\n",
              "    fill: #D2E3FC;\n",
              "  }\n",
              "\n",
              "  [theme=dark] .colab-df-quickchart:hover {\n",
              "    background-color: #434B5C;\n",
              "    box-shadow: 0px 1px 3px 1px rgba(0, 0, 0, 0.15);\n",
              "    filter: drop-shadow(0px 1px 2px rgba(0, 0, 0, 0.3));\n",
              "    fill: #FFFFFF;\n",
              "  }\n",
              "</style>\n",
              "\n",
              "    <script>\n",
              "      async function quickchart(key) {\n",
              "        const containerElement = document.querySelector('#' + key);\n",
              "        const charts = await google.colab.kernel.invokeFunction(\n",
              "            'suggestCharts', [key], {});\n",
              "      }\n",
              "    </script>\n",
              "\n",
              "      <script>\n",
              "\n",
              "function displayQuickchartButton(domScope) {\n",
              "  let quickchartButtonEl =\n",
              "    domScope.querySelector('#df-25181eeb-22e0-48a1-9f54-c1aa615e82f9 button.colab-df-quickchart');\n",
              "  quickchartButtonEl.style.display =\n",
              "    google.colab.kernel.accessAllowed ? 'block' : 'none';\n",
              "}\n",
              "\n",
              "        displayQuickchartButton(document);\n",
              "      </script>\n",
              "      <style>\n",
              "    .colab-df-container {\n",
              "      display:flex;\n",
              "      flex-wrap:wrap;\n",
              "      gap: 12px;\n",
              "    }\n",
              "\n",
              "    .colab-df-convert {\n",
              "      background-color: #E8F0FE;\n",
              "      border: none;\n",
              "      border-radius: 50%;\n",
              "      cursor: pointer;\n",
              "      display: none;\n",
              "      fill: #1967D2;\n",
              "      height: 32px;\n",
              "      padding: 0 0 0 0;\n",
              "      width: 32px;\n",
              "    }\n",
              "\n",
              "    .colab-df-convert:hover {\n",
              "      background-color: #E2EBFA;\n",
              "      box-shadow: 0px 1px 2px rgba(60, 64, 67, 0.3), 0px 1px 3px 1px rgba(60, 64, 67, 0.15);\n",
              "      fill: #174EA6;\n",
              "    }\n",
              "\n",
              "    [theme=dark] .colab-df-convert {\n",
              "      background-color: #3B4455;\n",
              "      fill: #D2E3FC;\n",
              "    }\n",
              "\n",
              "    [theme=dark] .colab-df-convert:hover {\n",
              "      background-color: #434B5C;\n",
              "      box-shadow: 0px 1px 3px 1px rgba(0, 0, 0, 0.15);\n",
              "      filter: drop-shadow(0px 1px 2px rgba(0, 0, 0, 0.3));\n",
              "      fill: #FFFFFF;\n",
              "    }\n",
              "  </style>\n",
              "\n",
              "      <script>\n",
              "        const buttonEl =\n",
              "          document.querySelector('#df-bd4ba7cb-48b1-4238-a3b4-864853658276 button.colab-df-convert');\n",
              "        buttonEl.style.display =\n",
              "          google.colab.kernel.accessAllowed ? 'block' : 'none';\n",
              "\n",
              "        async function convertToInteractive(key) {\n",
              "          const element = document.querySelector('#df-bd4ba7cb-48b1-4238-a3b4-864853658276');\n",
              "          const dataTable =\n",
              "            await google.colab.kernel.invokeFunction('convertToInteractive',\n",
              "                                                     [key], {});\n",
              "          if (!dataTable) return;\n",
              "\n",
              "          const docLinkHtml = 'Like what you see? Visit the ' +\n",
              "            '<a target=\"_blank\" href=https://colab.research.google.com/notebooks/data_table.ipynb>data table notebook</a>'\n",
              "            + ' to learn more about interactive tables.';\n",
              "          element.innerHTML = '';\n",
              "          dataTable['output_type'] = 'display_data';\n",
              "          await google.colab.output.renderOutput(dataTable, element);\n",
              "          const docLink = document.createElement('div');\n",
              "          docLink.innerHTML = docLinkHtml;\n",
              "          element.appendChild(docLink);\n",
              "        }\n",
              "      </script>\n",
              "    </div>\n",
              "  </div>\n"
            ]
          },
          "metadata": {},
          "execution_count": 3
        }
      ]
    },
    {
      "cell_type": "markdown",
      "source": [
        "# **Cleaning**"
      ],
      "metadata": {
        "id": "4j3vEfePCy5D"
      }
    },
    {
      "cell_type": "code",
      "source": [
        "df.info()"
      ],
      "metadata": {
        "colab": {
          "base_uri": "https://localhost:8080/"
        },
        "id": "EYIWFcREBcl8",
        "outputId": "4d33abbe-1c25-462c-8871-8764a705e3ee"
      },
      "execution_count": 4,
      "outputs": [
        {
          "output_type": "stream",
          "name": "stdout",
          "text": [
            "<class 'pandas.core.frame.DataFrame'>\n",
            "RangeIndex: 10000 entries, 0 to 9999\n",
            "Data columns (total 50 columns):\n",
            " #   Column                              Non-Null Count  Dtype  \n",
            "---  ------                              --------------  -----  \n",
            " 0   id                                  10000 non-null  int64  \n",
            " 1   NumDots                             10000 non-null  int64  \n",
            " 2   SubdomainLevel                      10000 non-null  int64  \n",
            " 3   PathLevel                           10000 non-null  int64  \n",
            " 4   UrlLength                           10000 non-null  int64  \n",
            " 5   NumDash                             10000 non-null  int64  \n",
            " 6   NumDashInHostname                   10000 non-null  int64  \n",
            " 7   AtSymbol                            10000 non-null  int64  \n",
            " 8   TildeSymbol                         10000 non-null  int64  \n",
            " 9   NumUnderscore                       10000 non-null  int64  \n",
            " 10  NumPercent                          10000 non-null  int64  \n",
            " 11  NumQueryComponents                  10000 non-null  int64  \n",
            " 12  NumAmpersand                        10000 non-null  int64  \n",
            " 13  NumHash                             10000 non-null  int64  \n",
            " 14  NumNumericChars                     10000 non-null  int64  \n",
            " 15  NoHttps                             10000 non-null  int64  \n",
            " 16  RandomString                        10000 non-null  int64  \n",
            " 17  IpAddress                           10000 non-null  int64  \n",
            " 18  DomainInSubdomains                  10000 non-null  int64  \n",
            " 19  DomainInPaths                       10000 non-null  int64  \n",
            " 20  HttpsInHostname                     10000 non-null  int64  \n",
            " 21  HostnameLength                      10000 non-null  int64  \n",
            " 22  PathLength                          10000 non-null  int64  \n",
            " 23  QueryLength                         10000 non-null  int64  \n",
            " 24  DoubleSlashInPath                   10000 non-null  int64  \n",
            " 25  NumSensitiveWords                   10000 non-null  int64  \n",
            " 26  EmbeddedBrandName                   10000 non-null  int64  \n",
            " 27  PctExtHyperlinks                    10000 non-null  float64\n",
            " 28  PctExtResourceUrls                  10000 non-null  float64\n",
            " 29  ExtFavicon                          10000 non-null  int64  \n",
            " 30  InsecureForms                       10000 non-null  int64  \n",
            " 31  RelativeFormAction                  10000 non-null  int64  \n",
            " 32  ExtFormAction                       10000 non-null  int64  \n",
            " 33  AbnormalFormAction                  10000 non-null  int64  \n",
            " 34  PctNullSelfRedirectHyperlinks       10000 non-null  float64\n",
            " 35  FrequentDomainNameMismatch          10000 non-null  int64  \n",
            " 36  FakeLinkInStatusBar                 10000 non-null  int64  \n",
            " 37  RightClickDisabled                  10000 non-null  int64  \n",
            " 38  PopUpWindow                         10000 non-null  int64  \n",
            " 39  SubmitInfoToEmail                   10000 non-null  int64  \n",
            " 40  IframeOrFrame                       10000 non-null  int64  \n",
            " 41  MissingTitle                        10000 non-null  int64  \n",
            " 42  ImagesOnlyInForm                    10000 non-null  int64  \n",
            " 43  SubdomainLevelRT                    10000 non-null  int64  \n",
            " 44  UrlLengthRT                         10000 non-null  int64  \n",
            " 45  PctExtResourceUrlsRT                10000 non-null  int64  \n",
            " 46  AbnormalExtFormActionR              10000 non-null  int64  \n",
            " 47  ExtMetaScriptLinkRT                 10000 non-null  int64  \n",
            " 48  PctExtNullSelfRedirectHyperlinksRT  10000 non-null  int64  \n",
            " 49  CLASS_LABEL                         10000 non-null  int64  \n",
            "dtypes: float64(3), int64(47)\n",
            "memory usage: 3.8 MB\n"
          ]
        }
      ]
    },
    {
      "cell_type": "code",
      "source": [
        "df.shape"
      ],
      "metadata": {
        "colab": {
          "base_uri": "https://localhost:8080/"
        },
        "id": "6f_H1HcZBgFD",
        "outputId": "fdcbaba3-985a-403a-f017-dc7cb3fc2a04"
      },
      "execution_count": 5,
      "outputs": [
        {
          "output_type": "execute_result",
          "data": {
            "text/plain": [
              "(10000, 50)"
            ]
          },
          "metadata": {},
          "execution_count": 5
        }
      ]
    },
    {
      "cell_type": "markdown",
      "source": [
        "The data set has 50 Columns and 10,000 Observations of phising which is a descent dataset"
      ],
      "metadata": {
        "id": "T_QAysUqBnYO"
      }
    },
    {
      "cell_type": "code",
      "source": [
        "columns = df.columns\n",
        "print(columns)"
      ],
      "metadata": {
        "colab": {
          "base_uri": "https://localhost:8080/"
        },
        "id": "RK2wGG5XBlhy",
        "outputId": "9fb976ff-9b97-4b77-de18-1d57f961e0b4"
      },
      "execution_count": 6,
      "outputs": [
        {
          "output_type": "stream",
          "name": "stdout",
          "text": [
            "Index(['id', 'NumDots', 'SubdomainLevel', 'PathLevel', 'UrlLength', 'NumDash',\n",
            "       'NumDashInHostname', 'AtSymbol', 'TildeSymbol', 'NumUnderscore',\n",
            "       'NumPercent', 'NumQueryComponents', 'NumAmpersand', 'NumHash',\n",
            "       'NumNumericChars', 'NoHttps', 'RandomString', 'IpAddress',\n",
            "       'DomainInSubdomains', 'DomainInPaths', 'HttpsInHostname',\n",
            "       'HostnameLength', 'PathLength', 'QueryLength', 'DoubleSlashInPath',\n",
            "       'NumSensitiveWords', 'EmbeddedBrandName', 'PctExtHyperlinks',\n",
            "       'PctExtResourceUrls', 'ExtFavicon', 'InsecureForms',\n",
            "       'RelativeFormAction', 'ExtFormAction', 'AbnormalFormAction',\n",
            "       'PctNullSelfRedirectHyperlinks', 'FrequentDomainNameMismatch',\n",
            "       'FakeLinkInStatusBar', 'RightClickDisabled', 'PopUpWindow',\n",
            "       'SubmitInfoToEmail', 'IframeOrFrame', 'MissingTitle',\n",
            "       'ImagesOnlyInForm', 'SubdomainLevelRT', 'UrlLengthRT',\n",
            "       'PctExtResourceUrlsRT', 'AbnormalExtFormActionR', 'ExtMetaScriptLinkRT',\n",
            "       'PctExtNullSelfRedirectHyperlinksRT', 'CLASS_LABEL'],\n",
            "      dtype='object')\n"
          ]
        }
      ]
    },
    {
      "cell_type": "markdown",
      "source": [
        "As our columns are all type of **64** if we could convert to **32** we can save 50% of memory usage so lets convert this into **Type 32**"
      ],
      "metadata": {
        "id": "pj14ZlYOFaGk"
      }
    },
    {
      "cell_type": "code",
      "source": [
        "numeric_cols = df.select_dtypes(include=['float64', 'int64']).columns\n",
        "\n",
        "for col in numeric_cols:\n",
        "    if df[col].dtype == 'float64':\n",
        "        df[col] = df[col].astype('float32')\n",
        "    elif df[col].dtype == 'int64':\n",
        "        df[col] = df[col].astype('int32')\n",
        "\n",
        "df.info()\n"
      ],
      "metadata": {
        "colab": {
          "base_uri": "https://localhost:8080/"
        },
        "id": "x5J72SK3By_w",
        "outputId": "7f4c6611-333a-4d9a-8a00-9d724c996b9a"
      },
      "execution_count": 7,
      "outputs": [
        {
          "output_type": "stream",
          "name": "stdout",
          "text": [
            "<class 'pandas.core.frame.DataFrame'>\n",
            "RangeIndex: 10000 entries, 0 to 9999\n",
            "Data columns (total 50 columns):\n",
            " #   Column                              Non-Null Count  Dtype  \n",
            "---  ------                              --------------  -----  \n",
            " 0   id                                  10000 non-null  int32  \n",
            " 1   NumDots                             10000 non-null  int32  \n",
            " 2   SubdomainLevel                      10000 non-null  int32  \n",
            " 3   PathLevel                           10000 non-null  int32  \n",
            " 4   UrlLength                           10000 non-null  int32  \n",
            " 5   NumDash                             10000 non-null  int32  \n",
            " 6   NumDashInHostname                   10000 non-null  int32  \n",
            " 7   AtSymbol                            10000 non-null  int32  \n",
            " 8   TildeSymbol                         10000 non-null  int32  \n",
            " 9   NumUnderscore                       10000 non-null  int32  \n",
            " 10  NumPercent                          10000 non-null  int32  \n",
            " 11  NumQueryComponents                  10000 non-null  int32  \n",
            " 12  NumAmpersand                        10000 non-null  int32  \n",
            " 13  NumHash                             10000 non-null  int32  \n",
            " 14  NumNumericChars                     10000 non-null  int32  \n",
            " 15  NoHttps                             10000 non-null  int32  \n",
            " 16  RandomString                        10000 non-null  int32  \n",
            " 17  IpAddress                           10000 non-null  int32  \n",
            " 18  DomainInSubdomains                  10000 non-null  int32  \n",
            " 19  DomainInPaths                       10000 non-null  int32  \n",
            " 20  HttpsInHostname                     10000 non-null  int32  \n",
            " 21  HostnameLength                      10000 non-null  int32  \n",
            " 22  PathLength                          10000 non-null  int32  \n",
            " 23  QueryLength                         10000 non-null  int32  \n",
            " 24  DoubleSlashInPath                   10000 non-null  int32  \n",
            " 25  NumSensitiveWords                   10000 non-null  int32  \n",
            " 26  EmbeddedBrandName                   10000 non-null  int32  \n",
            " 27  PctExtHyperlinks                    10000 non-null  float32\n",
            " 28  PctExtResourceUrls                  10000 non-null  float32\n",
            " 29  ExtFavicon                          10000 non-null  int32  \n",
            " 30  InsecureForms                       10000 non-null  int32  \n",
            " 31  RelativeFormAction                  10000 non-null  int32  \n",
            " 32  ExtFormAction                       10000 non-null  int32  \n",
            " 33  AbnormalFormAction                  10000 non-null  int32  \n",
            " 34  PctNullSelfRedirectHyperlinks       10000 non-null  float32\n",
            " 35  FrequentDomainNameMismatch          10000 non-null  int32  \n",
            " 36  FakeLinkInStatusBar                 10000 non-null  int32  \n",
            " 37  RightClickDisabled                  10000 non-null  int32  \n",
            " 38  PopUpWindow                         10000 non-null  int32  \n",
            " 39  SubmitInfoToEmail                   10000 non-null  int32  \n",
            " 40  IframeOrFrame                       10000 non-null  int32  \n",
            " 41  MissingTitle                        10000 non-null  int32  \n",
            " 42  ImagesOnlyInForm                    10000 non-null  int32  \n",
            " 43  SubdomainLevelRT                    10000 non-null  int32  \n",
            " 44  UrlLengthRT                         10000 non-null  int32  \n",
            " 45  PctExtResourceUrlsRT                10000 non-null  int32  \n",
            " 46  AbnormalExtFormActionR              10000 non-null  int32  \n",
            " 47  ExtMetaScriptLinkRT                 10000 non-null  int32  \n",
            " 48  PctExtNullSelfRedirectHyperlinksRT  10000 non-null  int32  \n",
            " 49  CLASS_LABEL                         10000 non-null  int32  \n",
            "dtypes: float32(3), int32(47)\n",
            "memory usage: 1.9 MB\n"
          ]
        }
      ]
    },
    {
      "cell_type": "markdown",
      "source": [
        "Hence we can see that the memory usage has been cutdown from 3.8mb to 1.9mb because of this."
      ],
      "metadata": {
        "id": "7-5k3gVNGCM-"
      }
    },
    {
      "cell_type": "markdown",
      "source": [
        "## **Handling Missing Values**\n"
      ],
      "metadata": {
        "id": "7-pzG1heE6UQ"
      }
    },
    {
      "cell_type": "code",
      "source": [
        "df.isna().sum()"
      ],
      "metadata": {
        "id": "GPS_e1TXGMqs",
        "colab": {
          "base_uri": "https://localhost:8080/"
        },
        "outputId": "b6cbc214-373e-493c-f4b1-8b55f2b4316f"
      },
      "execution_count": 9,
      "outputs": [
        {
          "output_type": "execute_result",
          "data": {
            "text/plain": [
              "id                                    0\n",
              "NumDots                               0\n",
              "SubdomainLevel                        0\n",
              "PathLevel                             0\n",
              "UrlLength                             0\n",
              "NumDash                               0\n",
              "NumDashInHostname                     0\n",
              "AtSymbol                              0\n",
              "TildeSymbol                           0\n",
              "NumUnderscore                         0\n",
              "NumPercent                            0\n",
              "NumQueryComponents                    0\n",
              "NumAmpersand                          0\n",
              "NumHash                               0\n",
              "NumNumericChars                       0\n",
              "NoHttps                               0\n",
              "RandomString                          0\n",
              "IpAddress                             0\n",
              "DomainInSubdomains                    0\n",
              "DomainInPaths                         0\n",
              "HttpsInHostname                       0\n",
              "HostnameLength                        0\n",
              "PathLength                            0\n",
              "QueryLength                           0\n",
              "DoubleSlashInPath                     0\n",
              "NumSensitiveWords                     0\n",
              "EmbeddedBrandName                     0\n",
              "PctExtHyperlinks                      0\n",
              "PctExtResourceUrls                    0\n",
              "ExtFavicon                            0\n",
              "InsecureForms                         0\n",
              "RelativeFormAction                    0\n",
              "ExtFormAction                         0\n",
              "AbnormalFormAction                    0\n",
              "PctNullSelfRedirectHyperlinks         0\n",
              "FrequentDomainNameMismatch            0\n",
              "FakeLinkInStatusBar                   0\n",
              "RightClickDisabled                    0\n",
              "PopUpWindow                           0\n",
              "SubmitInfoToEmail                     0\n",
              "IframeOrFrame                         0\n",
              "MissingTitle                          0\n",
              "ImagesOnlyInForm                      0\n",
              "SubdomainLevelRT                      0\n",
              "UrlLengthRT                           0\n",
              "PctExtResourceUrlsRT                  0\n",
              "AbnormalExtFormActionR                0\n",
              "ExtMetaScriptLinkRT                   0\n",
              "PctExtNullSelfRedirectHyperlinksRT    0\n",
              "CLASS_LABEL                           0\n",
              "dtype: int64"
            ]
          },
          "metadata": {},
          "execution_count": 9
        }
      ]
    },
    {
      "cell_type": "markdown",
      "source": [
        "There are no missing values in the dataset"
      ],
      "metadata": {
        "id": "egSR8-VgFG48"
      }
    },
    {
      "cell_type": "markdown",
      "source": [
        "## **Duplicate Values**"
      ],
      "metadata": {
        "id": "u5mb9HA0FKH7"
      }
    },
    {
      "cell_type": "code",
      "source": [
        "df.duplicated().sum()"
      ],
      "metadata": {
        "colab": {
          "base_uri": "https://localhost:8080/"
        },
        "id": "_QO9f8q1FM21",
        "outputId": "bf3f65f4-b9b4-428c-9821-cd3e017d3120"
      },
      "execution_count": 12,
      "outputs": [
        {
          "output_type": "execute_result",
          "data": {
            "text/plain": [
              "0"
            ]
          },
          "metadata": {},
          "execution_count": 12
        }
      ]
    },
    {
      "cell_type": "markdown",
      "source": [
        "Number of Duplicate Values in the Dataset are 0"
      ],
      "metadata": {
        "id": "UxXLUNDQFe9M"
      }
    },
    {
      "cell_type": "markdown",
      "source": [
        "## Unique Values in the Dataset"
      ],
      "metadata": {
        "id": "rNLUvQILGNmW"
      }
    },
    {
      "cell_type": "code",
      "source": [
        "for col in df.columns:\n",
        "    unique_values = df[col].explode().unique()\n",
        "    if len(unique_values) > 10:\n",
        "        print(f\"{col} has {len(unique_values)} unique values\")\n",
        "    else:\n",
        "        print(f\"{col} contains: {', '.join(map(str, unique_values))}\")\n"
      ],
      "metadata": {
        "colab": {
          "base_uri": "https://localhost:8080/"
        },
        "id": "2RWsNASGFP_G",
        "outputId": "6920c5e4-2d88-487b-e667-24a03c851aff"
      },
      "execution_count": 13,
      "outputs": [
        {
          "output_type": "stream",
          "name": "stdout",
          "text": [
            "id has 10000 unique values\n",
            "NumDots has 17 unique values\n",
            "SubdomainLevel has 13 unique values\n",
            "PathLevel has 18 unique values\n",
            "UrlLength has 226 unique values\n",
            "NumDash has 25 unique values\n",
            "NumDashInHostname contains: 0, 1, 2, 4, 3, 5, 7, 6, 9, 8\n",
            "AtSymbol contains: 0, 1\n",
            "TildeSymbol contains: 0, 1\n",
            "NumUnderscore has 16 unique values\n",
            "NumPercent has 14 unique values\n",
            "NumQueryComponents has 19 unique values\n",
            "NumAmpersand has 16 unique values\n",
            "NumHash contains: 0, 1\n",
            "NumNumericChars has 82 unique values\n",
            "NoHttps contains: 1, 0\n",
            "RandomString contains: 0, 1\n",
            "IpAddress contains: 0, 1\n",
            "DomainInSubdomains contains: 0, 1\n",
            "DomainInPaths contains: 0, 1\n",
            "HttpsInHostname contains: 0\n",
            "HostnameLength has 74 unique values\n",
            "PathLength has 147 unique values\n",
            "QueryLength has 164 unique values\n",
            "DoubleSlashInPath contains: 0, 1\n",
            "NumSensitiveWords contains: 0, 1, 2, 3\n",
            "EmbeddedBrandName contains: 0, 1\n",
            "PctExtHyperlinks has 2510 unique values\n",
            "PctExtResourceUrls has 1489 unique values\n",
            "ExtFavicon contains: 1, 0\n",
            "InsecureForms contains: 1, 0\n",
            "RelativeFormAction contains: 0, 1\n",
            "ExtFormAction contains: 0, 1\n",
            "AbnormalFormAction contains: 0, 1\n",
            "PctNullSelfRedirectHyperlinks has 1311 unique values\n",
            "FrequentDomainNameMismatch contains: 0, 1\n",
            "FakeLinkInStatusBar contains: 0, 1\n",
            "RightClickDisabled contains: 0, 1\n",
            "PopUpWindow contains: 0, 1\n",
            "SubmitInfoToEmail contains: 0, 1\n",
            "IframeOrFrame contains: 0, 1\n",
            "MissingTitle contains: 0, 1\n",
            "ImagesOnlyInForm contains: 1, 0\n",
            "SubdomainLevelRT contains: 1, -1, 0\n",
            "UrlLengthRT contains: 0, -1, 1\n",
            "PctExtResourceUrlsRT contains: 1, -1, 0\n",
            "AbnormalExtFormActionR contains: 1, 0, -1\n",
            "ExtMetaScriptLinkRT contains: -1, 1, 0\n",
            "PctExtNullSelfRedirectHyperlinksRT contains: 1, 0, -1\n",
            "CLASS_LABEL contains: 1, 0\n"
          ]
        }
      ]
    },
    {
      "cell_type": "markdown",
      "source": [
        "\n",
        "The explode() function is a method provided by pandas, a popular data manipulation library in Python. It is used to transform elements of a list-like object within a pandas Series into separate rows, effectively \"exploding\" the list-like object.\n",
        "\n",
        "The functionality of explode() is particularly useful when dealing with columns containing lists, arrays, or other iterable objects. When you apply explode() to such a column, it will create a new row for each element in the list, while duplicating the rest of the data in the other columns. This makes it easier to perform operations on individual elements within the list-like objects."
      ],
      "metadata": {
        "id": "xbbpzh6lHKf9"
      }
    },
    {
      "cell_type": "markdown",
      "source": [
        "# **EDA**"
      ],
      "metadata": {
        "id": "gBLplBeuHsOI"
      }
    },
    {
      "cell_type": "markdown",
      "source": [
        "Our Target variable is Class Label Lets See the distribution of the column"
      ],
      "metadata": {
        "id": "Pb7welvMHya6"
      }
    },
    {
      "cell_type": "code",
      "source": [
        "df['CLASS_LABEL'].value_counts().plot(kind='bar')\n",
        "plt.xlabel('Class Labels')\n",
        "plt.ylabel('Count')\n",
        "plt.title('Value Counts of Class Labels')\n",
        "plt.show()"
      ],
      "metadata": {
        "colab": {
          "base_uri": "https://localhost:8080/",
          "height": 467
        },
        "id": "yKkrfjv3HLmv",
        "outputId": "fc9323ba-cda5-43aa-ec2e-e888f58d7e13"
      },
      "execution_count": 25,
      "outputs": [
        {
          "output_type": "display_data",
          "data": {
            "text/plain": [
              "<Figure size 640x480 with 1 Axes>"
            ],
            "image/png": "[encoded data removed]"
          },
          "metadata": {}
        }
      ]
    },
    {
      "cell_type": "code",
      "source": [
        "import matplotlib.pyplot as plt\n",
        "\n",
        "# Sample data\n",
        "x_values = [1, 2, 3, 4, 5]\n",
        "y_values = [10, 12, 8, 15, 9]\n",
        "labels = ['A', 'B', 'C', 'D', 'E']\n",
        "\n",
        "# Create the scatter plot\n",
        "plt.scatter(x_values, y_values)\n",
        "\n",
        "# Add annotations to each point\n",
        "for i, label in enumerate(labels):\n",
        "    plt.annotate(label, (x_values[i], y_values[i]), textcoords=\"offset points\", xytext=(0, 5), ha='center')\n",
        "\n",
        "plt.xlabel('X Values')\n",
        "plt.ylabel('Y Values')\n",
        "plt.title('Scatter Plot with Annotations')\n",
        "plt.show()\n"
      ],
      "metadata": {
        "colab": {
          "base_uri": "https://localhost:8080/",
          "height": 472
        },
        "id": "l4WtQf3hJhEE",
        "outputId": "9c08baae-cdae-480d-bf92-77651b9a888e"
      },
      "execution_count": 26,
      "outputs": [
        {
          "output_type": "display_data",
          "data": {
            "text/plain": [
              "<Figure size 640x480 with 1 Axes>"
            ],
            "image/png": "[encoded data removed]"
          },
          "metadata": {}
        }
      ]
    }
  ]
}